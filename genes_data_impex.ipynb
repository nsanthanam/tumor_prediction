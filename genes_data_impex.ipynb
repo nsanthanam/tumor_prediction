{
 "cells": [
  {
   "cell_type": "code",
   "execution_count": 1,
   "metadata": {
    "collapsed": true
   },
   "outputs": [],
   "source": [
    "import pandas as pd\n",
    "import numpy as np"
   ]
  },
  {
   "cell_type": "code",
   "execution_count": 2,
   "metadata": {
    "collapsed": true
   },
   "outputs": [],
   "source": [
    "genes_fname = '/Users/navaneethan/Dropbox/projects/freshdesk/data/i2000.csv'\n",
    "genes = np.genfromtxt(fname=genes_fname, delimiter=',', dtype='float32')\n",
    "genes_transpose = np.transpose(genes)\n",
    "\n",
    "names_lst = ['attribute' + str(i) for i in range(1, 2001)]"
   ]
  },
  {
   "cell_type": "code",
   "execution_count": 3,
   "metadata": {
    "collapsed": true
   },
   "outputs": [],
   "source": [
    "genes_csv_fname = '/Users/navaneethan/Dropbox/projects/freshdesk/data/colonTumor.csv'\n",
    "genes_df = pd.DataFrame(genes_transpose, columns=names_lst, dtype='float32')\n",
    "\n",
    "genes_df['label'] = pd.read_csv(genes_csv_fname, usecols=[2000], header=0)"
   ]
  },
  {
   "cell_type": "code",
   "execution_count": 9,
   "metadata": {
    "collapsed": true
   },
   "outputs": [],
   "source": [
    "genes_df.to_csv('/Users/navaneethan/Dropbox/projects/freshdesk/data/genes_data.csv', index=False)"
   ]
  }
 ],
 "metadata": {
  "kernelspec": {
   "display_name": "Python 2",
   "language": "python",
   "name": "python2"
  },
  "language_info": {
   "codemirror_mode": {
    "name": "ipython",
    "version": 2
   },
   "file_extension": ".py",
   "mimetype": "text/x-python",
   "name": "python",
   "nbconvert_exporter": "python",
   "pygments_lexer": "ipython2",
   "version": "2.7.12"
  }
 },
 "nbformat": 4,
 "nbformat_minor": 0
}
